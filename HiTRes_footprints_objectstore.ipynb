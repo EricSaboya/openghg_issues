{
 "cells": [
  {
   "cell_type": "markdown",
   "id": "ce77d6d9-f004-47f1-818b-3e4c8f6156c8",
   "metadata": {},
   "source": [
    "### Retrieving High-Time Resolution Footprints from OpenGHG Objectstore\n",
    "----\n",
    "Created: 14 Jun. 2023\n",
    "\n",
    "----\n",
    "Notebook to demonstrate an OpenGHG issue with retrieving high time resolution footprints. \n",
    "\n",
    "Adding standard and high time resolution footprints to the object store for the same site and same period leads to some footprints retrieved from the object store not having the high time resolution data option. "
   ]
  },
  {
   "cell_type": "code",
   "execution_count": 3,
   "id": "f7a79218-f0bc-418a-a8ed-ff5972664730",
   "metadata": {},
   "outputs": [],
   "source": [
    "import os\n",
    "import openghg"
   ]
  },
  {
   "cell_type": "code",
   "execution_count": 4,
   "id": "3457fb61-f3e5-4b6d-a4cd-67681003e1c5",
   "metadata": {},
   "outputs": [
    {
     "name": "stderr",
     "output_type": "stream",
     "text": [
      "WARNING:openghg.store:This file has been uploaded previously with the filename : MHD-10magl_UKV_co2_EUROPE_201411.nc - skipping.\n"
     ]
    }
   ],
   "source": [
    "# Let's add co2 footprints for MHD for Nov. 2011 to the object store. \n",
    "# NB. standard resolution footprints have previously been added for this month for Mace Head\n",
    "\n",
    "openghg.standardise.standardise_footprint(os.path.join('/group/chemistry/acrg/LPDM/fp_NAME/EUROPE','MHD-10magl_UKV_co2_EUROPE_201411.nc'),\n",
    "                                          site='MHD',\n",
    "                                          domain='EUROPE',\n",
    "                                          model='NAME',\n",
    "                                          inlet='10m',\n",
    "                                          metmodel='UKV',\n",
    "                                          species='co2')"
   ]
  },
  {
   "cell_type": "code",
   "execution_count": 10,
   "id": "acceec34-f23f-4f56-9cfb-c2967c2ab3f0",
   "metadata": {},
   "outputs": [
    {
     "name": "stdout",
     "output_type": "stream",
     "text": [
      "['fp', 'temperature', 'pressure', 'wind_speed', 'wind_direction', 'PBLH', 'release_lon', 'release_lat', 'particle_locations_n', 'particle_locations_e', 'particle_locations_s', 'particle_locations_w', 'mean_age_particles_n', 'mean_age_particles_e', 'mean_age_particles_s', 'mean_age_particles_w']\n"
     ]
    }
   ],
   "source": [
    "# Now let's retrieve the same footprints\n",
    "get_fps = openghg.retrieve.get_footprint(site=\"MHD\",\n",
    "                                         domain=\"EUROPE\",\n",
    "                                         start_date=\"2014-11-01\",\n",
    "                                         end_date=\"2014-12-01\")\n",
    "\n",
    "# We can see that the high-resolution footprints are not a variable option \n",
    "print(list(get_fps.data.keys()))"
   ]
  },
  {
   "cell_type": "code",
   "execution_count": 11,
   "id": "8b89437c-6991-439e-a3b9-f37f44485d76",
   "metadata": {},
   "outputs": [],
   "source": [
    "# NB. When using 'overwrite=True' when adding the footprints results in the same issue "
   ]
  },
  {
   "cell_type": "code",
   "execution_count": 12,
   "id": "497f128f-50fc-4cfd-97d9-6f3df1df234b",
   "metadata": {},
   "outputs": [
    {
     "name": "stdout",
     "output_type": "stream",
     "text": [
      "['fp', 'fp_HiTRes', 'temperature', 'pressure', 'wind_speed', 'wind_direction', 'PBLH', 'release_lon', 'release_lat', 'particle_locations_n', 'particle_locations_e', 'particle_locations_s', 'particle_locations_w', 'mean_age_particles_n', 'mean_age_particles_e', 'mean_age_particles_s', 'mean_age_particles_w']\n"
     ]
    }
   ],
   "source": [
    "# However, if we look at the footprints for a different month we do see an option for the high-time res footprints\n",
    "\n",
    "get_fps_2021 = openghg.retrieve.get_footprint(site=\"MHD\",\n",
    "                                             domain=\"EUROPE\",\n",
    "                                             start_date=\"2021-11-01\",\n",
    "                                             end_date=\"2021-12-01\")\n",
    "\n",
    "print(list(get_fps_2021.data.keys()))"
   ]
  }
 ],
 "metadata": {
  "kernelspec": {
   "display_name": "Python 3 (ipykernel)",
   "language": "python",
   "name": "python3"
  },
  "language_info": {
   "codemirror_mode": {
    "name": "ipython",
    "version": 3
   },
   "file_extension": ".py",
   "mimetype": "text/x-python",
   "name": "python",
   "nbconvert_exporter": "python",
   "pygments_lexer": "ipython3",
   "version": "3.10.8"
  }
 },
 "nbformat": 4,
 "nbformat_minor": 5
}
